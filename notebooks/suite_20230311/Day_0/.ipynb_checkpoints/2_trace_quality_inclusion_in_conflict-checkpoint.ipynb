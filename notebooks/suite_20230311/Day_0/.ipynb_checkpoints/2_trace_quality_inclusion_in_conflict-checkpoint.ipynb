{
 "cells": [
  {
   "cell_type": "code",
   "execution_count": 1,
   "id": "9b64a15e",
   "metadata": {},
   "outputs": [
    {
     "data": {
      "text/html": [
       "<style>.container { width:95% !important; }</style>"
      ],
      "text/plain": [
       "<IPython.core.display.HTML object>"
      ]
     },
     "metadata": {},
     "output_type": "display_data"
    }
   ],
   "source": [
    "from IPython.display import display, HTML\n",
    "display(HTML(\"<style>.container { width:95% !important; }</style>\"))"
   ]
  },
  {
   "cell_type": "code",
   "execution_count": 2,
   "id": "f4e46adb",
   "metadata": {},
   "outputs": [],
   "source": [
    "from pathlib import Path\n",
    "import copy\n",
    "\n",
    "import numpy as np\n",
    "import scipy.sparse\n",
    "import matplotlib.pyplot as plt"
   ]
  },
  {
   "cell_type": "code",
   "execution_count": 3,
   "id": "0f5b3134",
   "metadata": {},
   "outputs": [],
   "source": [
    "dir_github = Path(r'D:\\RH_local\\github').resolve()\n",
    "\n",
    "# dir_analysisFiles = Path(r'/media/rich/bigSSD/data_raw/BMI/mouse_2_6').resolve()\n",
    "# dir_analysisFiles = Path(r'/media/rich/bigSSD/data_raw/BMI/mouse_1511L/').resolve()\n",
    "# dir_analysisFiles = Path(r'/media/rich/bigSSD/data_raw/BMI/mouse_g8test').resolve()\n",
    "dir_analysisFiles = Path(r'D:\\RH_local\\data\\cage_0315\\mouse_0315N\\20230404\\analysis_data').resolve()\n",
    "\n",
    "## Directory with F.npy, stat.npy etc.\n",
    "# dir_s2p         = Path(r'/media/rich/bigSSD/data_raw/BMI/mouse_2_6/statFiles/20210409').resolve()\n",
    "# dir_s2p         = Path(r'/media/rich/bigSSD/data_raw/BMI/mouse_1511L/statFiles/20230111/').resolve()\n",
    "# dir_s2p         = Path(r'/media/rich/bigSSD/data_raw/BMI/mouse_g8test/mouse_g8t/jobNum_0/suite2p/plane0').resolve()\n",
    "dir_s2p         = Path(r'D:\\RH_local\\data\\cage_0315\\mouse_0315N\\20230404\\analysis_data\\suite2p_o2\\plane0').resolve()\n",
    "\n",
    "# ## Path of iscell. Can be from neural net output (iscell_NN)\n",
    "# # path_iscell = dir_analysisFiles / 'iscell_NN.npy'\n",
    "# path_iscell = dir_analysisFiles / 'drawn_roi_classification_output.pkl'\n",
    "\n",
    "## Directory to save outputs into\n",
    "dir_save = dir_analysisFiles"
   ]
  },
  {
   "cell_type": "code",
   "execution_count": 4,
   "id": "a7ce187c",
   "metadata": {},
   "outputs": [],
   "source": [
    "# import sys\n",
    "# sys.path.append(str(dir_github))\n",
    "\n",
    "%load_ext autoreload\n",
    "%autoreload 2\n",
    "\n",
    "# from basic_neural_processing_modules import ca2p_preprocessing, file_helpers\n",
    "from bnpm import ca2p_preprocessing, file_helpers, path_helpers"
   ]
  },
  {
   "cell_type": "code",
   "execution_count": 5,
   "id": "b2422c53",
   "metadata": {},
   "outputs": [],
   "source": [
    "## == IMPORT DATA ==\n",
    "F, Fneu, iscell_s2p, ops, spks_s2p, stat = ca2p_preprocessing.import_s2p(dir_s2p)\n",
    "n_frames, n_rois = F.shape[1], F.shape[0]\n",
    "Fs = ops['fs']"
   ]
  },
  {
   "cell_type": "code",
   "execution_count": 6,
   "id": "073b1788",
   "metadata": {},
   "outputs": [],
   "source": [
    "# iscell = np.load(path_iscell)\n",
    "path_iscell = path_helpers.find_paths(dir_outer=dir_analysisFiles, reMatch='roi_classification')[0]\n",
    "iscell = file_helpers.pickle_load(path_iscell)['preds'][0].astype(np.bool8)"
   ]
  },
  {
   "cell_type": "code",
   "execution_count": 7,
   "id": "e008ad9c",
   "metadata": {},
   "outputs": [],
   "source": [
    "F_toUse = F[iscell]\n",
    "Fneu_toUse = Fneu[iscell]"
   ]
  },
  {
   "cell_type": "code",
   "execution_count": 8,
   "id": "e81717eb",
   "metadata": {},
   "outputs": [],
   "source": [
    "# # Oopsie!\n",
    "# # Mouse g2FB: delete 43000 - 50000 frames\n",
    "# F_toUse = np.delete(F_toUse, range(43000,50000), axis=1)\n",
    "# Fneu_toUse = np.delete(Fneu_toUse, range(43000,50000), axis=1)"
   ]
  },
  {
   "cell_type": "code",
   "execution_count": 9,
   "id": "a813ffa7",
   "metadata": {
    "scrolled": false
   },
   "outputs": [
    {
     "name": "stdout",
     "output_type": "stream",
     "text": [
      "Calculated dFoF. Total elapsed time: 6.33 seconds\n"
     ]
    }
   ],
   "source": [
    "# channelOffset_correction = 0\n",
    "percentile_baseline = 30\n",
    "neuropil_fraction=0.7\n",
    "\n",
    "dFoF , dF , F_neuSub , F_baseline = ca2p_preprocessing.make_dFoF(F=F_toUse,\n",
    "                                                                 Fneu=Fneu_toUse,\n",
    "                                                                 neuropil_fraction=neuropil_fraction,\n",
    "                                                                 percentile_baseline=percentile_baseline,\n",
    "                                                                 rolling_percentile_window=None,\n",
    "                                                                 multicore_pref=True,\n",
    "                                                                 verbose=True)\n",
    "\n",
    "dFoF_params = {\n",
    "    \"channelOffset_correction\": 0,\n",
    "    \"percentile_baseline\": percentile_baseline,\n",
    "    \"neuropil_fraction\": neuropil_fraction,\n",
    "}"
   ]
  },
  {
   "cell_type": "code",
   "execution_count": 10,
   "id": "da26bc2a",
   "metadata": {},
   "outputs": [
    {
     "name": "stderr",
     "output_type": "stream",
     "text": [
      "100%|██████████████████████████████████████████████████████████████████████████████████| 20/20 [00:36<00:00,  1.85s/it]\n"
     ]
    },
    {
     "name": "stdout",
     "output_type": "stream",
     "text": [
      "Calculated dFoF. Total elapsed time: 38.73 seconds\n"
     ]
    }
   ],
   "source": [
    "# dFoF with reduced percentile for baseline\n",
    "channelOffset_correction = 0\n",
    "percentile_baseline = 30\n",
    "neuropil_fraction = 0.7\n",
    "win_rolling_percentile = 15*60*30\n",
    "\n",
    "dFoF_rollingPtile, dF_rollingPtile, F_neuSub_rollingPtile, F_baseline_rollingPtile = ca2p_preprocessing.make_dFoF(\n",
    "    F=F_toUse,\n",
    "    Fneu=Fneu_toUse,\n",
    "    neuropil_fraction=neuropil_fraction,\n",
    "    percentile_baseline=percentile_baseline,\n",
    "    rolling_percentile_window=win_rolling_percentile,\n",
    "    multicore_pref=True,\n",
    "    verbose=True\n",
    ")\n",
    "# # Threshold for nonnegativity\n",
    "# dFoF_z = dFoF / np.std(dFoF,axis=1,keepdims=True)\n",
    "\n",
    "dFoF_params = {\n",
    "    \"channelOffset_correction\": 0,\n",
    "    \"percentile_baseline\": percentile_baseline,\n",
    "    \"neuropil_fraction\": neuropil_fraction,\n",
    "}"
   ]
  },
  {
   "cell_type": "code",
   "execution_count": null,
   "id": "3f254409",
   "metadata": {
    "scrolled": false
   },
   "outputs": [],
   "source": [
    "%matplotlib notebook\n",
    "\n",
    "thresh = {\n",
    "    'var_ratio': 0.6,\n",
    "    'EV_F_by_Fneu': 0.5,\n",
    "    'base_FneuSub': 10,\n",
    "    'base_F': 200,\n",
    "    'peter_noise_levels': 20,\n",
    "    'rich_nsr': 4,\n",
    "    'max_dFoF': 15,\n",
    "    'baseline_var': 0.003,\n",
    "        }\n",
    "\n",
    "# thresh = {\n",
    "#             'var_ratio': np.inf,\n",
    "#             'EV_F_by_Fneu': np.inf,\n",
    "#             'base_FneuSub': -np.inf,\n",
    "#             'base_F': -np.inf,\n",
    "#             'noise_levels': 6,\n",
    "#             'max_dFoF': np.inf,\n",
    "#             'baseline_var': np.inf,\n",
    "#         }\n",
    "    \n",
    "tqm, iscell_tqm = ca2p_preprocessing.trace_quality_metrics(\n",
    "    F_toUse,\n",
    "    Fneu_toUse,\n",
    "    dFoF_rollingPtile,\n",
    "    dF_rollingPtile,\n",
    "    F_neuSub,\n",
    "    F_baseline,\n",
    "    percentile_baseline=percentile_baseline,\n",
    "    Fs=Fs,\n",
    "    plot_pref=True,\n",
    "    thresh=thresh,\n",
    ")\n",
    "idxROI_tqm_toInclude = np.where(iscell_tqm)[0]\n",
    "idxROI_tqm_toExclude = np.where(~iscell_tqm)[0]"
   ]
  },
  {
   "cell_type": "code",
   "execution_count": null,
   "id": "20ccfddc",
   "metadata": {
    "scrolled": false
   },
   "outputs": [],
   "source": [
    "%matplotlib notebook\n",
    "\n",
    "thresh = {\n",
    "    'var_ratio': 0.6,\n",
    "    'EV_F_by_Fneu': 0.5,\n",
    "    'base_FneuSub': 100,\n",
    "    'base_F': 100,\n",
    "    'peter_noise_levels': 5,\n",
    "    'rich_nsr': 5,\n",
    "    'max_dFoF': 50,\n",
    "    'baseline_var': 0.0002,\n",
    "        }\n",
    "\n",
    "# thresh = {\n",
    "#             'var_ratio': np.inf,\n",
    "#             'EV_F_by_Fneu': np.inf,\n",
    "#             'base_FneuSub': -np.inf,\n",
    "#             'base_F': -np.inf,\n",
    "#             'noise_levels': 6,\n",
    "#             'max_dFoF': np.inf,\n",
    "#             'baseline_var': np.inf,\n",
    "#         }\n",
    "    \n",
    "tqm, iscell_tqm = ca2p_preprocessing.trace_quality_metrics(\n",
    "    F_toUse,\n",
    "    Fneu_toUse,\n",
    "    dFoF_rollingPtile,\n",
    "    dF_rollingPtile,\n",
    "    F_neuSub,\n",
    "    F_baseline,\n",
    "    percentile_baseline=percentile_baseline,\n",
    "    Fs=Fs,\n",
    "    plot_pref=True,\n",
    "    thresh=thresh,\n",
    ")\n",
    "idxROI_tqm_toInclude = np.where(iscell_tqm)[0]\n",
    "idxROI_tqm_toExclude = np.where(~iscell_tqm)[0]"
   ]
  },
  {
   "cell_type": "code",
   "execution_count": 15,
   "id": "dc428b2b",
   "metadata": {},
   "outputs": [],
   "source": [
    "iscell_new = copy.copy(iscell)\n",
    "iscell_new[iscell_new] = iscell_tqm"
   ]
  },
  {
   "cell_type": "code",
   "execution_count": 16,
   "id": "ad844a33",
   "metadata": {},
   "outputs": [],
   "source": [
    "file_helpers.pickle_save(\n",
    "    obj={\n",
    "        \"tqm\": tqm,\n",
    "        \"iscell_tqm\": iscell_tqm,\n",
    "        \"dFoF_params\": dFoF_params\n",
    "    },\n",
    "    path_save=dir_save / 'trace_quality.pkl'\n",
    ")\n",
    "\n",
    "np.save(\n",
    "    file= dir_save / 'iscell_NN_tqm.npy',\n",
    "    arr=iscell_new\n",
    ")"
   ]
  },
  {
   "cell_type": "code",
   "execution_count": null,
   "id": "c1b64cf7",
   "metadata": {},
   "outputs": [],
   "source": []
  },
  {
   "cell_type": "code",
   "execution_count": null,
   "id": "96455568",
   "metadata": {},
   "outputs": [],
   "source": []
  },
  {
   "cell_type": "code",
   "execution_count": null,
   "id": "89ba5eaf",
   "metadata": {},
   "outputs": [],
   "source": []
  }
 ],
 "metadata": {
  "kernelspec": {
   "display_name": "Python 3 (ipykernel)",
   "language": "python",
   "name": "python3"
  },
  "language_info": {
   "codemirror_mode": {
    "name": "ipython",
    "version": 3
   },
   "file_extension": ".py",
   "mimetype": "text/x-python",
   "name": "python",
   "nbconvert_exporter": "python",
   "pygments_lexer": "ipython3",
   "version": "3.8.12"
  }
 },
 "nbformat": 4,
 "nbformat_minor": 5
}
