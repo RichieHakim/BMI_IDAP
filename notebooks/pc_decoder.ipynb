{
 "cells": [
  {
   "cell_type": "code",
   "execution_count": 1,
   "id": "8fe115a9",
   "metadata": {},
   "outputs": [
    {
     "name": "stdout",
     "output_type": "stream",
     "text": [
      "\tYAML reader installed (version 0.17.20).\n"
     ]
    },
    {
     "name": "stderr",
     "output_type": "stream",
     "text": [
      "Using TensorFlow backend.\n",
      "2022-02-02 14:36:06.924496: W tensorflow/stream_executor/platform/default/dso_loader.cc:59] Could not load dynamic library 'libcudart.so.10.1'; dlerror: libcudart.so.10.1: cannot open shared object file: No such file or directory; LD_LIBRARY_PATH: /home/akj290/.conda/envs/bmi_idap/lib/python3.8/site-packages/cv2/../../lib64:\n",
      "2022-02-02 14:36:06.924528: I tensorflow/stream_executor/cuda/cudart_stub.cc:29] Ignore above cudart dlerror if you do not have a GPU set up on your machine.\n"
     ]
    },
    {
     "name": "stdout",
     "output_type": "stream",
     "text": [
      "\tKeras installed (version 2.3.1).\n",
      "\tTensorflow installed (version 2.3.0).\n"
     ]
    },
    {
     "name": "stderr",
     "output_type": "stream",
     "text": [
      "/home/akj290/.conda/envs/bmi_idap/lib/python3.8/site-packages/_distutils_hack/__init__.py:30: UserWarning: Setuptools is replacing distutils.\n",
      "  warnings.warn(\"Setuptools is replacing distutils.\")\n"
     ]
    }
   ],
   "source": [
    "# base libraries\n",
    "import copy\n",
    "import gc\n",
    "import multiprocessing\n",
    "from multiprocessing import Pool\n",
    "import os\n",
    "from pathlib import Path\n",
    "import sys\n",
    "import time\n",
    "\n",
    "# installed libraries\n",
    "import cv2\n",
    "import imageio\n",
    "import numpy as np\n",
    "import numpy.matlib\n",
    "import matplotlib\n",
    "import matplotlib.pyplot as plt\n",
    "import matplotlib.colors as colors\n",
    "import pandas as pd\n",
    "import scipy\n",
    "import scipy.signal\n",
    "import sklearn as sk\n",
    "import sklearn.decomposition\n",
    "import skimage.draw\n",
    "import torchinterp1d\n",
    "from tqdm import tqdm\n",
    "\n",
    "sys.path.append('/n/groups/datta/akshay/bmi/')\n",
    "sys.path.append('/n/groups/datta/akshay/bmi/Cascade')\n",
    "import cascade2p\n",
    "from cascade2p import checks\n",
    "checks.check_packages()\n",
    "from cascade2p import cascade # local folder\n",
    "from cascade2p.utils import plot_dFF_traces, plot_noise_level_distribution, plot_noise_matched_ground_truth\n",
    "\n",
    "# my libraries\n",
    "from basic_neural_processing_modules import *"
   ]
  },
  {
   "cell_type": "code",
   "execution_count": 2,
   "id": "776c940e",
   "metadata": {},
   "outputs": [],
   "source": [
    "## == IMPORT DATA ==\n",
    "dir_s2p = Path('/n/groups/datta/akshay/bmi/data/mouse2_6/20210409/baseline/suite2p/plane0')\n",
    "\n",
    "F = np.load(dir_s2p / 'F.npy') # masks multiplied by data\n",
    "Fneu = np.load(dir_s2p / 'Fneu.npy') # estimated neuropil signal (Fns = F - Fneu; Fo = ptile(Fns, 30); dFoF=Fns-Fo/Fo)\n",
    "iscell = np.load(dir_s2p/'iscell.npy') # probability and bool of each roi\n",
    "ops = np.load(dir_s2p / 'ops.npy', allow_pickle=True) # parameters for the suite2p\n",
    "spks = np.load(dir_s2p / 'spks.npy') # blind deconvolution\n",
    "stat = np.load(dir_s2p / 'stat.npy', allow_pickle=True) # statistics for individual neurons \n",
    "\n",
    "num_frames_S2p = F.shape[1]"
   ]
  },
  {
   "cell_type": "code",
   "execution_count": 3,
   "id": "47623ff4",
   "metadata": {},
   "outputs": [
    {
     "name": "stdout",
     "output_type": "stream",
     "text": [
      "Calculated dFoF. Total elapsed time: 26.95 seconds\n",
      "ThreadPool elapsed time : 2.93 s. Now unpacking list into array.\n",
      "Calculated convolution. Total elapsed time: 6.24 seconds\n"
     ]
    }
   ],
   "source": [
    "# Cascade\n",
    "\n",
    "channelOffset_correction = 150\n",
    "percentile_baseline = 10\n",
    "dFoF , dF , F_neuSub , F_baseline = ca2p_preprocessing.make_dFoF(F=F + channelOffset_correction,\n",
    "                                                                 Fneu=Fneu + channelOffset_correction,\n",
    "                                                                 neuropil_fraction=0.7,\n",
    "                                                                 percentile_baseline=percentile_baseline,\n",
    "                                                                 multicore_pref=True,\n",
    "                                                                 verbose=True)\n",
    "dFoF_smooth = timeSeries.convolve_along_axis(dFoF,\n",
    "                                             kernel=math_functions.gaussian(np.arange(-15,15), 0, sig=50/30, plot_pref=False)[0],\n",
    "                                             axis=1,mode='same',\n",
    "                                             multicore_pref=True,\n",
    "                                             verbose=True)"
   ]
  },
  {
   "cell_type": "code",
   "execution_count": 4,
   "id": "4b7cd73b",
   "metadata": {},
   "outputs": [],
   "source": [
    "# spike_prob = np.concatenate([cascade.predict(model_name='Global_EXC_30Hz_smoothing50ms_causalkernel',\n",
    "#                                              traces=batch, \n",
    "#                                              model_folder='/n/data1/hms/neurobio/sabatini/rich/github_repos/Cascade/Pretrained_models', \n",
    "#                                              padding=0) for batch in indexing.make_batches(dFoF_smooth, num_batches=500)], axis=0)\n",
    "\n",
    "# np.save(dir_s2p / 'spike_prob.npy', np.single(spike_prob))"
   ]
  },
  {
   "cell_type": "code",
   "execution_count": null,
   "id": "5c562e25-5926-4060-8002-2b22590eb957",
   "metadata": {},
   "outputs": [
    {
     "name": "stderr",
     "output_type": "stream",
     "text": [
      "  0%|          | 0/200 [00:00<?, ?it/s]"
     ]
    },
    {
     "name": "stdout",
     "output_type": "stream",
     "text": [
      "\n",
      " \n",
      "The selected model was trained on 18 datasets, with 5 ensembles for each noise level, at a sampling rate of 30Hz, with a resampled ground truth that was smoothed with a causal kernel of a standard deviation of 50 milliseconds. \n",
      " \n",
      "\n",
      "Loaded model was trained at frame rate 30 Hz\n",
      "Given argument traces contains 25 neurons and 108000 frames.\n",
      "Noise levels (mean, std; in standard units): 0.45, 0.09\n",
      "\n",
      "Predictions for noise level 2:\n",
      "\t... ensemble 0\n",
      "330/330 [==============================] - 10s 31ms/step\n",
      "\t... ensemble 1\n",
      "330/330 [==============================] - 10s 31ms/step\n",
      "\t... ensemble 2\n",
      "330/330 [==============================] - 10s 31ms/step\n",
      "\t... ensemble 3\n",
      "330/330 [==============================] - 10s 31ms/step\n",
      "\t... ensemble 4\n",
      "330/330 [==============================] - 10s 31ms/step\n"
     ]
    },
    {
     "name": "stderr",
     "output_type": "stream",
     "text": [
      "  0%|          | 1/200 [01:08<3:47:38, 68.63s/it]"
     ]
    },
    {
     "name": "stdout",
     "output_type": "stream",
     "text": [
      "\n",
      "Predictions for noise level 3:\n",
      "\tNo neurons for this noise level\n",
      "\n",
      "Predictions for noise level 4:\n",
      "\tNo neurons for this noise level\n",
      "\n",
      "Predictions for noise level 5:\n",
      "\tNo neurons for this noise level\n",
      "\n",
      "Predictions for noise level 6:\n",
      "\tNo neurons for this noise level\n",
      "\n",
      "Predictions for noise level 7:\n",
      "\tNo neurons for this noise level\n",
      "\n",
      "Predictions for noise level 8:\n",
      "\tNo neurons for this noise level\n",
      "Done\n",
      "\n",
      " \n",
      "The selected model was trained on 18 datasets, with 5 ensembles for each noise level, at a sampling rate of 30Hz, with a resampled ground truth that was smoothed with a causal kernel of a standard deviation of 50 milliseconds. \n",
      " \n",
      "\n",
      "Loaded model was trained at frame rate 30 Hz\n",
      "Given argument traces contains 25 neurons and 108000 frames.\n",
      "Noise levels (mean, std; in standard units): 0.45, 0.1\n",
      "\n",
      "Predictions for noise level 2:\n",
      "\t... ensemble 0\n",
      "330/330 [==============================] - 10s 31ms/step\n",
      "\t... ensemble 1\n",
      "330/330 [==============================] - 10s 31ms/step\n",
      "\t... ensemble 2\n",
      "330/330 [==============================] - 10s 31ms/step\n",
      "\t... ensemble 3\n"
     ]
    }
   ],
   "source": [
    "spike_probs = []\n",
    "with tqdm(total=200) as pbar:\n",
    "    for batch in indexing.make_batches(dFoF_smooth, num_batches=200):\n",
    "        spike_prob = cascade.predict(model_name='Global_EXC_30Hz_smoothing50ms_causalkernel',\n",
    "                                                 traces=batch, \n",
    "                                                 model_folder='/n/data1/hms/neurobio/sabatini/rich/github_repos/Cascade/Pretrained_models', \n",
    "                                                 padding=0)\n",
    "        spike_probs.append(spike_prob)\n",
    "        pbar.update(1)\n",
    "\n",
    "spike_prob_array = np.concatenate(spike_probs, axis=0)\n",
    "\n",
    "np.save(dir_s2p / 'spike_prob.npy', np.single(spike_prob_array))"
   ]
  },
  {
   "cell_type": "code",
   "execution_count": 5,
   "id": "213e0d8a-27a3-45d0-8832-299ca0ef505f",
   "metadata": {},
   "outputs": [],
   "source": [
    "# Load Spike Probs\n",
    "spike_prob = np.load(dir_s2p / 'spike_prob.npy')"
   ]
  },
  {
   "cell_type": "code",
   "execution_count": 6,
   "id": "7af35bf6-c79d-40dc-95ba-07a21bc150b6",
   "metadata": {},
   "outputs": [
    {
     "data": {
      "text/plain": [
       "(4898, 108000)"
      ]
     },
     "execution_count": 6,
     "metadata": {},
     "output_type": "execute_result"
    }
   ],
   "source": [
    "spike_prob.shape"
   ]
  },
  {
   "cell_type": "code",
   "execution_count": 11,
   "id": "33f5a7b0-daa7-4766-bc9e-802c8a315cf2",
   "metadata": {},
   "outputs": [
    {
     "data": {
      "image/png": "[encoded data removed]",
      "text/plain": [
       "<Figure size 432x288 with 1 Axes>"
      ]
     },
     "metadata": {
      "needs_background": "light"
     },
     "output_type": "display_data"
    }
   ],
   "source": [
    "plt.plot(spike_prob[:10,:1000].T+np.arange(0,10))\n",
    "plt.show()"
   ]
  },
  {
   "cell_type": "code",
   "execution_count": 14,
   "id": "cba3a9a4-6de8-43f3-8ffa-6d3883da0841",
   "metadata": {},
   "outputs": [],
   "source": [
    "pca = sklearn.decomposition.PCA()\n",
    "spike_pcs = pca.fit_transform(spike_prob.T)"
   ]
  },
  {
   "cell_type": "code",
   "execution_count": 13,
   "id": "50b123f5-99bb-4211-9ecd-6d3adf557d47",
   "metadata": {},
   "outputs": [
    {
     "data": {
      "text/plain": [
       "(4898, 4898)"
      ]
     },
     "execution_count": 13,
     "metadata": {},
     "output_type": "execute_result"
    }
   ],
   "source": []
  },
  {
   "cell_type": "code",
   "execution_count": null,
   "id": "90968075-c1bc-493b-a70a-059255d02516",
   "metadata": {},
   "outputs": [],
   "source": []
  }
 ],
 "metadata": {
  "kernelspec": {
   "display_name": "bmi_idap",
   "language": "python",
   "name": "bmi_idap"
  },
  "language_info": {
   "codemirror_mode": {
    "name": "ipython",
    "version": 3
   },
   "file_extension": ".py",
   "mimetype": "text/x-python",
   "name": "python",
   "nbconvert_exporter": "python",
   "pygments_lexer": "ipython3",
   "version": "3.8.12"
  }
 },
 "nbformat": 4,
 "nbformat_minor": 5
}
