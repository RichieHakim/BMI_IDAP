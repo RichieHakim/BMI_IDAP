{
 "cells": [
  {
   "cell_type": "code",
   "execution_count": 1,
   "id": "8fe115a9",
   "metadata": {},
   "outputs": [],
   "source": [
    "# base libraries\n",
    "import copy\n",
    "import gc\n",
    "import multiprocessing\n",
    "from multiprocessing import Pool\n",
    "import os\n",
    "from pathlib import Path\n",
    "import sys\n",
    "import time\n",
    "\n",
    "# installed libraries\n",
    "import cv2\n",
    "import imageio\n",
    "import numpy as np\n",
    "import numpy.matlib\n",
    "import matplotlib\n",
    "import matplotlib.pyplot as plt\n",
    "import matplotlib.colors as colors\n",
    "import pandas as pd\n",
    "import scipy\n",
    "import scipy.signal\n",
    "import sklearn as sk\n",
    "import sklearn.decomposition\n",
    "import skimage.draw\n",
    "\n",
    "# my libraries\n",
    "sys.path.append('/Users/akshay/Documents/Harvard/')\n",
    "from basic_neural_processing_modules import *"
   ]
  },
  {
   "cell_type": "code",
   "execution_count": 2,
   "id": "776c940e",
   "metadata": {},
   "outputs": [],
   "source": [
    "## == IMPORT DATA ==\n",
    "dir_s2p = Path('/Users/akshay/Documents/Harvard/suite2p/plane0')\n",
    "\n",
    "F = np.load(dir_s2p / 'F.npy') # masks multiplied by data\n",
    "Fneu = np.load(dir_s2p / 'Fneu.npy') # estimated neuropil signal (Fns = F - Fneu; Fo = ptile(Fns, 30); dFoF=Fns-Fo/Fo)\n",
    "iscell = np.load(dir_s2p/'iscell.npy') # probability and bool of each roi\n",
    "ops = np.load(dir_s2p / 'ops.npy', allow_pickle=True) # parameters for the suite2p\n",
    "spks = np.load(dir_s2p / 'spks.npy') # blind deconvolution\n",
    "stat = np.load(dir_s2p / 'stat.npy', allow_pickle=True) # statistics for individual neurons \n",
    "\n",
    "num_frames_S2p = F.shape[1]"
   ]
  },
  {
   "cell_type": "code",
   "execution_count": null,
   "id": "47623ff4",
   "metadata": {},
   "outputs": [],
   "source": []
  },
  {
   "cell_type": "code",
   "execution_count": null,
   "id": "14d729eb",
   "metadata": {},
   "outputs": [],
   "source": []
  }
 ],
 "metadata": {
  "kernelspec": {
   "display_name": "Python 3 (ipykernel)",
   "language": "python",
   "name": "python3"
  },
  "language_info": {
   "codemirror_mode": {
    "name": "ipython",
    "version": 3
   },
   "file_extension": ".py",
   "mimetype": "text/x-python",
   "name": "python",
   "nbconvert_exporter": "python",
   "pygments_lexer": "ipython3",
   "version": "3.8.12"
  }
 },
 "nbformat": 4,
 "nbformat_minor": 5
}
