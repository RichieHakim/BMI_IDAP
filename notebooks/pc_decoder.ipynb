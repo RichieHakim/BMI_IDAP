{
 "cells": [
  {
   "cell_type": "code",
   "execution_count": 1,
   "id": "21f5b6e2",
   "metadata": {},
   "outputs": [
    {
     "ename": "ImportError",
     "evalue": "cannot import name 'rolling_percentile_rq_multicore' from 'basic_neural_processing_modules.timeSeries' (/Users/akshay/Documents/Harvard/basic_neural_processing_modules/timeSeries.py)",
     "output_type": "error",
     "traceback": [
      "\u001b[0;31m---------------------------------------------------------------------------\u001b[0m",
      "\u001b[0;31mImportError\u001b[0m                               Traceback (most recent call last)",
      "Input \u001b[0;32mIn [1]\u001b[0m, in \u001b[0;36m<module>\u001b[0;34m\u001b[0m\n\u001b[1;32m     26\u001b[0m \u001b[38;5;66;03m# my libraries\u001b[39;00m\n\u001b[1;32m     27\u001b[0m sys\u001b[38;5;241m.\u001b[39mpath\u001b[38;5;241m.\u001b[39mappend(\u001b[38;5;124m'\u001b[39m\u001b[38;5;124m/Users/akshay/Documents/Harvard/\u001b[39m\u001b[38;5;124m'\u001b[39m)\n\u001b[0;32m---> 28\u001b[0m \u001b[38;5;28;01mfrom\u001b[39;00m \u001b[38;5;21;01mbasic_neural_processing_modules\u001b[39;00m \u001b[38;5;28;01mimport\u001b[39;00m \u001b[38;5;241m*\u001b[39m\n\u001b[1;32m     29\u001b[0m \u001b[38;5;28;01mimport\u001b[39;00m \u001b[38;5;21;01mcascade2p\u001b[39;00m\n\u001b[1;32m     30\u001b[0m \u001b[38;5;28;01mfrom\u001b[39;00m \u001b[38;5;21;01mcascade2p\u001b[39;00m \u001b[38;5;28;01mimport\u001b[39;00m checks\n",
      "File \u001b[0;32m~/Documents/Harvard/basic_neural_processing_modules/ca2p_preprocessing.py:24\u001b[0m, in \u001b[0;36m<module>\u001b[0;34m\u001b[0m\n\u001b[1;32m     20\u001b[0m \u001b[38;5;28;01mimport\u001b[39;00m \u001b[38;5;21;01mtime\u001b[39;00m\n\u001b[1;32m     22\u001b[0m \u001b[38;5;28;01mfrom\u001b[39;00m \u001b[38;5;21;01mnumba\u001b[39;00m \u001b[38;5;28;01mimport\u001b[39;00m jit, njit, prange\n\u001b[0;32m---> 24\u001b[0m \u001b[38;5;28;01mfrom\u001b[39;00m \u001b[38;5;21;01m.\u001b[39;00m\u001b[38;5;21;01mtimeSeries\u001b[39;00m \u001b[38;5;28;01mimport\u001b[39;00m percentile_numba, var_numba, rolling_percentile_pd, rolling_percentile_rq_multicore, min_numba, max_numba\n\u001b[1;32m     27\u001b[0m \u001b[38;5;28;01mdef\u001b[39;00m \u001b[38;5;21mmake_dFoF\u001b[39m(\n\u001b[1;32m     28\u001b[0m     F, \n\u001b[1;32m     29\u001b[0m     Fneu\u001b[38;5;241m=\u001b[39m\u001b[38;5;28;01mNone\u001b[39;00m, \n\u001b[0;32m   (...)\u001b[0m\n\u001b[1;32m     32\u001b[0m     multicore_pref\u001b[38;5;241m=\u001b[39m\u001b[38;5;28;01mFalse\u001b[39;00m, \n\u001b[1;32m     33\u001b[0m     verbose\u001b[38;5;241m=\u001b[39m\u001b[38;5;28;01mTrue\u001b[39;00m):\n\u001b[1;32m     34\u001b[0m     \u001b[38;5;124;03m\"\"\"\u001b[39;00m\n\u001b[1;32m     35\u001b[0m \u001b[38;5;124;03m    calculates the dF/F and other signals. Designed for Suite2p data.\u001b[39;00m\n\u001b[1;32m     36\u001b[0m \u001b[38;5;124;03m    If Fneu is left empty or =None, then no neuropil subtraction done.\u001b[39;00m\n\u001b[0;32m   (...)\u001b[0m\n\u001b[1;32m     59\u001b[0m \u001b[38;5;124;03m            1-D array of size F.shape[0]. Baseline value for each ROI\u001b[39;00m\n\u001b[1;32m     60\u001b[0m \u001b[38;5;124;03m    \"\"\"\u001b[39;00m\n",
      "\u001b[0;31mImportError\u001b[0m: cannot import name 'rolling_percentile_rq_multicore' from 'basic_neural_processing_modules.timeSeries' (/Users/akshay/Documents/Harvard/basic_neural_processing_modules/timeSeries.py)"
     ]
    }
   ],
   "source": [
    "# base libraries\n",
    "import copy\n",
    "import gc\n",
    "import multiprocessing\n",
    "from multiprocessing import Pool\n",
    "import os\n",
    "from pathlib import Path\n",
    "import sys\n",
    "import time\n",
    "\n",
    "# installed libraries\n",
    "import cv2\n",
    "import imageio\n",
    "import numpy as np\n",
    "import numpy.matlib\n",
    "import matplotlib\n",
    "import matplotlib.pyplot as plt\n",
    "import matplotlib.colors as colors\n",
    "import pandas as pd\n",
    "import scipy\n",
    "import scipy.signal\n",
    "import sklearn as sk\n",
    "import sklearn.decomposition\n",
    "import skimage.draw\n",
    "\n",
    "# my libraries\n",
    "sys.path.append('/Users/akshay/Documents/Harvard/')\n",
    "from basic_neural_processing_modules import *"
   ]
  },
  {
   "cell_type": "code",
   "execution_count": null,
   "id": "58e55d0b",
   "metadata": {},
   "outputs": [],
   "source": []
  },
  {
   "cell_type": "code",
   "execution_count": 9,
   "id": "f47e1075",
   "metadata": {},
   "outputs": [],
   "source": [
    "## == IMPORT DATA ==\n",
    "dir_s2p = Path('/Users/akshay/Documents/Harvard/suite2p/plane0')\n",
    "\n",
    "F = np.load(dir_s2p / 'F.npy')\n",
    "Fneu = np.load(dir_s2p / 'Fneu.npy')\n",
    "iscell = np.load(dir_s2p/'iscell.npy')\n",
    "ops = np.load(dir_s2p / 'ops.npy', allow_pickle=True)\n",
    "spks = np.load(dir_s2p / 'spks.npy')\n",
    "stat = np.load(dir_s2p / 'stat.npy', allow_pickle=True)\n",
    "\n",
    "num_frames_S2p = F.shape[1]"
   ]
  },
  {
   "cell_type": "code",
   "execution_count": null,
   "id": "54d9a15a",
   "metadata": {},
   "outputs": [],
   "source": []
  }
 ],
 "metadata": {
  "kernelspec": {
   "display_name": "Python 3 (ipykernel)",
   "language": "python",
   "name": "python3"
  },
  "language_info": {
   "codemirror_mode": {
    "name": "ipython",
    "version": 3
   },
   "file_extension": ".py",
   "mimetype": "text/x-python",
   "name": "python",
   "nbconvert_exporter": "python",
   "pygments_lexer": "ipython3",
   "version": "3.8.12"
  }
 },
 "nbformat": 4,
 "nbformat_minor": 5
}
